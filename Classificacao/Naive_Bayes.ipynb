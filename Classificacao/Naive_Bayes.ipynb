{
 "cells": [
  {
   "cell_type": "markdown",
   "metadata": {},
   "source": [
    "# Algoritmo de classificação Naive Bayes"
   ]
  },
  {
   "cell_type": "markdown",
   "metadata": {},
   "source": [
    "O algoritmo Naive Bayes é baseado no teorema de Bayes, e parte da suposição de que as variávies preditoras são independentes.\n",
    "\n",
    "\n",
    "O método calcula a probabilidade de cada classe no conjunto de treino, criando uma tabela.\n",
    "Esta tabelea é utilizada para realizar as previsões de classificações, ou seja, para encontrar uma probabilidade a posteriori (possuir a caracteristica de interesse, dado que recebeu um resultado positivo), isso,  multiplicando a probabilidade a priori (possuir a caracteristica de interesse) pela probabilidade de receber um resultado positivo, dado que tem a caracteristica de interesse.\n",
    "\n",
    "\n",
    "Este é mais utilizado para probleamas de processamento de linguagem natural, contudo, ele foi utilizado neste exemplo afim de aprendizagem e aplicação do método."
   ]
  },
  {
   "cell_type": "code",
   "execution_count": 1,
   "metadata": {},
   "outputs": [],
   "source": [
    "import pandas as pd\n",
    "import statsmodels.api as sm\n",
    "import numpy as np\n",
    "import seaborn as sns\n",
    "import matplotlib.pyplot as plt\n",
    "import plotly.express as px\n",
    "import pickle"
   ]
  },
  {
   "cell_type": "code",
   "execution_count": 2,
   "metadata": {},
   "outputs": [],
   "source": [
    "from sklearn.naive_bayes import GaussianNB"
   ]
  },
  {
   "cell_type": "code",
   "execution_count": 3,
   "metadata": {},
   "outputs": [],
   "source": [
    "with open('credit.pkl','rb') as f:\n",
    "    X_credit_treinamento, y_credit_treinamento, X_credit_teste, y_credit_teste = pickle.load(f)"
   ]
  },
  {
   "cell_type": "code",
   "execution_count": 4,
   "metadata": {},
   "outputs": [
    {
     "data": {
      "text/plain": [
       "((24435, 20), (24435,))"
      ]
     },
     "execution_count": 4,
     "metadata": {},
     "output_type": "execute_result"
    }
   ],
   "source": [
    "X_credit_treinamento.shape, y_credit_treinamento.shape"
   ]
  },
  {
   "cell_type": "code",
   "execution_count": 5,
   "metadata": {},
   "outputs": [
    {
     "data": {
      "text/plain": [
       "array([[-0.92160841,  0.22466383, -1.00959144, ..., -0.46268575,\n",
       "         0.46268575, -0.69155444],\n",
       "       [ 0.36779533,  0.01492609, -1.00959144, ..., -0.46268575,\n",
       "         0.46268575,  0.04828407],\n",
       "       [-0.43808201, -0.1115619 ,  0.99049969, ..., -0.46268575,\n",
       "         0.46268575, -0.44494161],\n",
       "       ...,\n",
       "       [-0.92160841, -0.44488358,  0.99049969, ..., -0.46268575,\n",
       "         0.46268575, -0.93816728],\n",
       "       [-0.76043294, -0.38841572,  0.99049969, ..., -0.46268575,\n",
       "         0.46268575, -0.93816728],\n",
       "       [-0.76043294, -0.5174851 , -1.00959144, ..., -0.46268575,\n",
       "         0.46268575, -0.93816728]])"
      ]
     },
     "execution_count": 5,
     "metadata": {},
     "output_type": "execute_result"
    }
   ],
   "source": [
    "X_credit_treinamento"
   ]
  },
  {
   "cell_type": "code",
   "execution_count": 6,
   "metadata": {},
   "outputs": [
    {
     "data": {
      "text/plain": [
       "((8146, 20), (8146,))"
      ]
     },
     "execution_count": 6,
     "metadata": {},
     "output_type": "execute_result"
    }
   ],
   "source": [
    "X_credit_teste.shape, y_credit_teste.shape"
   ]
  },
  {
   "cell_type": "code",
   "execution_count": 7,
   "metadata": {},
   "outputs": [
    {
     "data": {
      "text/plain": [
       "array([0, 1, 0, ..., 1, 0, 1])"
      ]
     },
     "execution_count": 7,
     "metadata": {},
     "output_type": "execute_result"
    }
   ],
   "source": [
    "naive_credit = GaussianNB()\n",
    "naive_credit.fit(X_credit_treinamento,y_credit_treinamento)\n",
    "previsoes = naive_credit.predict(X_credit_teste)\n",
    "previsoes"
   ]
  },
  {
   "cell_type": "code",
   "execution_count": 8,
   "metadata": {},
   "outputs": [],
   "source": [
    "from sklearn.metrics import accuracy_score, confusion_matrix, classification_report"
   ]
  },
  {
   "cell_type": "code",
   "execution_count": 9,
   "metadata": {},
   "outputs": [
    {
     "data": {
      "text/plain": [
       "0.8003928308372207"
      ]
     },
     "execution_count": 9,
     "metadata": {},
     "output_type": "execute_result"
    }
   ],
   "source": [
    "accuracy_score(y_credit_teste, previsoes)"
   ]
  },
  {
   "cell_type": "code",
   "execution_count": 10,
   "metadata": {},
   "outputs": [
    {
     "data": {
      "text/plain": [
       "array([[5383, 1099],\n",
       "       [ 527, 1137]])"
      ]
     },
     "execution_count": 10,
     "metadata": {},
     "output_type": "execute_result"
    }
   ],
   "source": [
    "confusion_matrix(y_credit_teste, previsoes)"
   ]
  },
  {
   "cell_type": "code",
   "execution_count": 11,
   "metadata": {},
   "outputs": [],
   "source": [
    "from yellowbrick.classifier import ConfusionMatrix"
   ]
  },
  {
   "cell_type": "code",
   "execution_count": 12,
   "metadata": {},
   "outputs": [
    {
     "data": {
      "text/plain": [
       "0.8003928308372207"
      ]
     },
     "execution_count": 12,
     "metadata": {},
     "output_type": "execute_result"
    },
    {
     "data": {
      "image/png": "[encoded data removed]",
      "text/plain": [
       "<Figure size 576x396 with 1 Axes>"
      ]
     },
     "metadata": {},
     "output_type": "display_data"
    }
   ],
   "source": [
    "cm = ConfusionMatrix(naive_credit)\n",
    "cm.fit(X_credit_treinamento,y_credit_treinamento)\n",
    "cm.score(X_credit_teste,y_credit_teste)"
   ]
  },
  {
   "cell_type": "code",
   "execution_count": 13,
   "metadata": {},
   "outputs": [
    {
     "name": "stdout",
     "output_type": "stream",
     "text": [
      "              precision    recall  f1-score   support\n",
      "\n",
      "           0       0.91      0.83      0.87      6482\n",
      "           1       0.51      0.68      0.58      1664\n",
      "\n",
      "    accuracy                           0.80      8146\n",
      "   macro avg       0.71      0.76      0.73      8146\n",
      "weighted avg       0.83      0.80      0.81      8146\n",
      "\n"
     ]
    }
   ],
   "source": [
    "print(classification_report(y_credit_teste,previsoes))"
   ]
  },
  {
   "cell_type": "markdown",
   "metadata": {},
   "source": [
    "## Conclusão"
   ]
  },
  {
   "cell_type": "markdown",
   "metadata": {},
   "source": [
    "De acordo com o  `classification_report`, o algortimo está conseguindo classificar melhor a classe 0 do que a classe 1, ou seja, ele está conseguindo identificar melhor os clientes não inadimplentes. Ao identificar a classe 0, 83% dos dados são classificados corretamente e quando ele prevê um caso de não inadimplência acerta 91% dos casos."
   ]
  }
 ],
 "metadata": {
  "interpreter": {
   "hash": "916dbcbb3f70747c44a77c7bcd40155683ae19c65e1c03b4aa3499c5328201f1"
  },
  "kernelspec": {
   "display_name": "Python 3.7.3 64-bit",
   "language": "python",
   "name": "python3"
  },
  "language_info": {
   "codemirror_mode": {
    "name": "ipython",
    "version": 3
   },
   "file_extension": ".py",
   "mimetype": "text/x-python",
   "name": "python",
   "nbconvert_exporter": "python",
   "pygments_lexer": "ipython3",
   "version": "3.7.3"
  },
  "orig_nbformat": 4
 },
 "nbformat": 4,
 "nbformat_minor": 2
}
